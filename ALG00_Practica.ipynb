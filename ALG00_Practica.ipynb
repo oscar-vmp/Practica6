{
 "cells": [
  {
   "cell_type": "markdown",
   "metadata": {},
   "source": [
    "# Práctica"
   ]
  },
  {
   "cell_type": "markdown",
   "metadata": {},
   "source": [
    "## 1. La conjetura de Collatz\n",
    "\n",
    "<img src=\"Images/comic_collatz.png\" style=\"width: 400px;\"/>\n",
    "\n",
    "Empiezas con un número entero natural cualquiera (1, 2, 3, 4, 5...).  \n",
    "Si el número es par, lo divides por 2  \n",
    "Si es impar, lo multiplicas por 3 y le sumas 1  \n",
    "\n",
    "Escribir un procedimiento en Python que implemente el mecanismo de la conjetura de Collatz para cualquier número entero positivo."
   ]
  },
  {
   "cell_type": "code",
   "execution_count": 1,
   "metadata": {},
   "outputs": [
    {
     "name": "stdout",
     "output_type": "stream",
     "text": [
      "Introduce un numero entero: 14\n",
      "Numero introducido  14\n"
     ]
    },
    {
     "data": {
      "text/plain": [
       "[14, 7, 22, 11, 34, 17, 52, 26, 13, 40, 20, 10, 5, 16, 8, 4, 2, 1]"
      ]
     },
     "execution_count": 1,
     "metadata": {},
     "output_type": "execute_result"
    }
   ],
   "source": [
    "def pedirNumeroEntero():\n",
    " \n",
    "    correcto=False\n",
    "    num=0\n",
    "    while(not correcto):\n",
    "        try:\n",
    "            num = int(input(\"Introduce un numero entero: \"))\n",
    "            correcto=True\n",
    "        except ValueError:\n",
    "            print('Error, introduce un numero entero')\n",
    "     \n",
    "    return num\n",
    " \n",
    "entero = pedirNumeroEntero()\n",
    "print ('Numero introducido ', entero)\n",
    "\n",
    "valores=[] \n",
    "while entero != 1:\n",
    "    if entero % 2 == 0:\n",
    "        valores.append(int(entero))\n",
    "        entero = entero / 2\n",
    "    else:\n",
    "        valores.append(int(entero))\n",
    "        entero = (entero * 3) + 1\n",
    "\n",
    "    if entero == 1:\n",
    "        valores.append(int(\"1\"))\n",
    "        \n",
    "valores"
   ]
  },
  {
   "cell_type": "markdown",
   "metadata": {},
   "source": [
    "## 2. Suma y producto escalar combinados\n",
    "\n",
    "Usando los procedimientos add y mult_vector_escalar definidos en el notebook **ALG05_Vectores**, calcular:   \n",
    "{$\\alpha$[1,2]+[3,4] : $\\alpha$$\\in$$\\mathbb{R}$, 0$\\leq$$\\alpha$$\\leq$1, con una precision de dos decimales (para la multiplicación)}"
   ]
  },
  {
   "cell_type": "code",
   "execution_count": 2,
   "metadata": {},
   "outputs": [
    {
     "name": "stdout",
     "output_type": "stream",
     "text": [
      "[3.0,4.0]\n",
      "[3.01,4.02]\n",
      "[3.02,4.04]\n",
      "[3.03,4.06]\n",
      "[3.04,4.08]\n",
      "[3.05,4.1]\n",
      "[3.06,4.12]\n",
      "[3.07,4.14]\n",
      "[3.08,4.16]\n",
      "[3.09,4.18]\n",
      "[3.1,4.2]\n",
      "[3.11,4.22]\n",
      "[3.12,4.24]\n",
      "[3.13,4.26]\n",
      "[3.14,4.28]\n",
      "[3.15,4.3]\n",
      "[3.16,4.32]\n",
      "[3.17,4.34]\n",
      "[3.18,4.36]\n",
      "[3.19,4.38]\n",
      "[3.2,4.4]\n",
      "[3.21,4.42]\n",
      "[3.22,4.44]\n",
      "[3.23,4.46]\n",
      "[3.24,4.48]\n",
      "[3.25,4.5]\n",
      "[3.26,4.52]\n",
      "[3.27,4.54]\n",
      "[3.28,4.56]\n",
      "[3.29,4.58]\n",
      "[3.3,4.6]\n",
      "[3.31,4.62]\n",
      "[3.32,4.64]\n",
      "[3.33,4.66]\n",
      "[3.34,4.68]\n",
      "[3.35,4.7]\n",
      "[3.36,4.72]\n",
      "[3.37,4.74]\n",
      "[3.38,4.76]\n",
      "[3.39,4.78]\n",
      "[3.4,4.8]\n",
      "[3.41,4.82]\n",
      "[3.42,4.84]\n",
      "[3.43,4.86]\n",
      "[3.44,4.88]\n",
      "[3.45,4.9]\n",
      "[3.46,4.92]\n",
      "[3.47,4.94]\n",
      "[3.48,4.96]\n",
      "[3.49,4.98]\n",
      "[3.5,5.0]\n",
      "[3.51,5.02]\n",
      "[3.52,5.04]\n",
      "[3.53,5.06]\n",
      "[3.54,5.08]\n",
      "[3.55,5.1]\n",
      "[3.56,5.12]\n",
      "[3.57,5.14]\n",
      "[3.58,5.16]\n",
      "[3.59,5.18]\n",
      "[3.6,5.2]\n",
      "[3.61,5.22]\n",
      "[3.62,5.24]\n",
      "[3.63,5.26]\n",
      "[3.64,5.28]\n",
      "[3.65,5.3]\n",
      "[3.66,5.32]\n",
      "[3.67,5.34]\n",
      "[3.68,5.36]\n",
      "[3.69,5.38]\n",
      "[3.7,5.4]\n",
      "[3.71,5.42]\n",
      "[3.72,5.44]\n",
      "[3.73,5.46]\n",
      "[3.74,5.48]\n",
      "[3.75,5.5]\n",
      "[3.76,5.52]\n",
      "[3.77,5.54]\n",
      "[3.78,5.56]\n",
      "[3.79,5.58]\n",
      "[3.8,5.6]\n",
      "[3.81,5.62]\n",
      "[3.82,5.64]\n",
      "[3.83,5.66]\n",
      "[3.84,5.68]\n",
      "[3.85,5.7]\n",
      "[3.86,5.72]\n",
      "[3.87,5.74]\n",
      "[3.88,5.76]\n",
      "[3.89,5.78]\n",
      "[3.9,5.8]\n",
      "[3.91,5.82]\n",
      "[3.92,5.84]\n",
      "[3.93,5.86]\n",
      "[3.94,5.88]\n",
      "[3.95,5.9]\n",
      "[3.96,5.92]\n",
      "[3.97,5.94]\n",
      "[3.98,5.96]\n",
      "[3.99,5.98]\n",
      "[4.0,6.0]\n"
     ]
    }
   ],
   "source": [
    "def add(v,w):\n",
    "    return [v[0]+w[0],v[1]+w[1]]\n",
    "def mult_vector_escalar(alpha,v):\n",
    "    return [alpha*v[i] for i in range(len(v))]\n",
    "v=[1,2]\n",
    "w=[3,4]\n",
    "\n",
    "resultado=[add(mult_vector_escalar(alpha/100,v),w) for alpha in range(101)]\n",
    "\n",
    "for vector in resultado:\n",
    "    print(f'[{round(vector[0],2)},{round(vector[1],2)}]')\n"
   ]
  },
  {
   "cell_type": "markdown",
   "metadata": {},
   "source": [
    "## 3. El secreto perfecto\n",
    "\n",
    "Representa la encriptación de la adicción de un n-vector a un n-vector de GF(2)  \n",
    "\n",
    "<img src=\"Images/mortadelo-filemon.jpg\" style=\"width: 300px;\"/>\n",
    "\n",
    "Mortadelo y Filemón usan como clave el siguiente vector:  \n",
    "**k**=[0,1,0,0,1,0,1,0,1,0] \n",
    "\n",
    "Mortadelo quiere enviarle a Filemón el siguiente mensaje:  \n",
    "**p**=[0,0,0,1,1,1,0,1,0,1] \n",
    "\n",
    "Mortadelo encripta su mensaje añadiendo k: \n",
    "**c**=**p**+**k**=[0,0,0,1,1,1,0,1,0,1]+[0,1,0,0,1,0,1,0,1,0]=[0,1,0,1,0,1,1,1,1,1] \n",
    "\n",
    "Cuando Filemón recibe el mensaje, lo desencripta añadiendo **k** a lo que ha recibido \n",
    "**p**=**c**+**k**=[0,1,0,1,0,1,1,1,1,1]+[0,1,0,0,1,0,1,0,1,0]=[0,0,0,1,1,1,0,1,0,1]    \n",
    "\n",
    "que es el mensaje original.\n",
    "\n",
    "La idea es crear un procedimiento para que Filemón:\n",
    "* No tenga que hacer este proceso manualmente cada vez que Mortadelo le envíe un mensaje encriptado para descifrarlo\n",
    "* Si deciden cambiar la clave, que el procedimiento cambie mínimamente\n",
    "\n",
    "  \n"
   ]
  },
  {
   "cell_type": "code",
   "execution_count": 3,
   "metadata": {},
   "outputs": [
    {
     "name": "stdout",
     "output_type": "stream",
     "text": [
      "Mensaje encriptado: [0, 1, 0, 1, 0, 1, 1, 1, 1, 1]\n",
      "Mensaje desencriptado: [0, 0, 0, 1, 1, 1, 0, 1, 0, 1]\n"
     ]
    }
   ],
   "source": [
    "k=[0,1,0,0,1,0,1,0,1,0]\n",
    "p=[0,0,0,1,1,1,0,1,0,1]\n",
    "\n",
    "def add(a,b):\n",
    "    return (a + b)%2\n",
    "\n",
    "def secretoPerfecto(a,b):\n",
    "     return [add(a[i],b[i]) for i in range(len(k))]\n",
    "    \n",
    "c=secretoPerfecto(k,p)\n",
    "print(f'Mensaje encriptado: {c}')\n",
    "resultado=secretoPerfecto(c,k)\n",
    "print(f'Mensaje desencriptado: {resultado}')\n"
   ]
  },
  {
   "cell_type": "markdown",
   "metadata": {},
   "source": [
    "## 4. ¿Cuánto cuesta hacer una cerveza?\n",
    "\n",
    "<img src=\"Images/cerveza.jpg\" style=\"width: 300px;\"/>\n",
    "\n",
    "Supongamos que D es el conjunto de algunos ingredientes de la cerveza: \n",
    "> D={lúpulo, malta, agua, levadura} \n",
    "\n",
    "Por otro lado tenemos el vector coste:\n",
    "> coste={lúpulo: 2,5€, malta: 1.5€, agua: 0.006€, levadura: 0,45€}  \n",
    "\n",
    "Por último tenemos el vector cantidad con lo necesario para hacer una cerveza:\n",
    "> cantidad={lúpulo: 6u, malta: 14u, agua: 7u, levadura: 11u} \n",
    "\n",
    "¿Cuánto cuesta hacer una cerveza?"
   ]
  },
  {
   "cell_type": "code",
   "execution_count": 4,
   "metadata": {},
   "outputs": [
    {
     "name": "stdout",
     "output_type": "stream",
     "text": [
      "La cerveza nos vale: 40.99 €\n"
     ]
    }
   ],
   "source": [
    "def producto_escalar(u,v):\n",
    "    return sum(u[i]*v[i] for i in range(len(u)))\n",
    "coste=[2.5,1.5,0.006,0.45]\n",
    "cantidad=[6,14,7,11]\n",
    "\n",
    "cuesta=producto_escalar(coste,cantidad)\n",
    "\n",
    "print(f'La cerveza nos vale: {round(cuesta,2)} €')"
   ]
  },
  {
   "cell_type": "markdown",
   "metadata": {},
   "source": [
    "## 5. La carrera de caballos\n",
    "\n",
    "Tres caballos A, B y C compiten en una carrera.  \n",
    "Las apuestas para dar como vencedor a cada uno de ellos son de 4 a 1 para A, 3 a 1 para B y 2 a 1 para C, tomando las unidades siempre en euros.  \n",
    "¿Cuánto debo apostar por cada caballo para asegurarme recibir 13 euros en toal, sin importar qué csaballo gane la carrera?"
   ]
  },
  {
   "cell_type": "markdown",
   "metadata": {},
   "source": [
    "Sean x,y,z el dinero apostado por los caballos A, B y C respectivamente.\n",
    "El objetivo del problema escalcular la cantidad que debe apostarse por cada caballo de forma que la suma del dinero recibido y perdido en ñas apuestas sea siempre igual a 13€.  \n",
    "Así, podemos plantear un sistema de tres ecuaciones con tres incógnitas, en el que igualaremos matemáticamente la cantidad percibida por la victoria de los caballos A, B, C y, al mismo tiempo, señalaremos que esta cantidad corresponde a 13€.  \n",
    "\n",
    "> 4x-y-z=3y-x-z  \n",
    "> 3y-x-z=2z-x-y  \n",
    "> 2z-x-y=13\n"
   ]
  },
  {
   "cell_type": "code",
   "execution_count": 5,
   "metadata": {},
   "outputs": [
    {
     "data": {
      "text/plain": [
       "matrix([[12.],\n",
       "        [15.],\n",
       "        [20.]])"
      ]
     },
     "execution_count": 5,
     "metadata": {},
     "output_type": "execute_result"
    }
   ],
   "source": [
    "import numpy as np\n",
    "A=np.matrix([\n",
    "    [5,-4,0],\n",
    "    [0,4,-3],\n",
    "    [-1,-1,2]\n",
    "   ])\n",
    "B=np.matrix([\n",
    "    [0],[0],[13]\n",
    "])\n",
    "\n",
    "r= np.linalg.solve(A, B)\n",
    "r"
   ]
  },
  {
   "cell_type": "markdown",
   "metadata": {},
   "source": [
    "## 6. Dimensión de matrices\n",
    "\n",
    "Sea la matriz $\n",
    "  M=\n",
    "  \\left[ {\\begin{array}{cc}\n",
    "   1 & 0  & 0 & 5 \\\\\n",
    "   0 & 2  & 0 & 7 \\\\\n",
    "   0 & 0  & 3 & 9 \\\\\n",
    "  \\end{array} } \\right]\n",
    "$. Calcular el rango por filas y por columnas usando Python."
   ]
  },
  {
   "cell_type": "code",
   "execution_count": 6,
   "metadata": {},
   "outputs": [
    {
     "name": "stdout",
     "output_type": "stream",
     "text": [
      "El rango por filas es: 3\n"
     ]
    }
   ],
   "source": [
    "import numpy as np\n",
    "\n",
    "M = np.matrix([\n",
    "    [1, 0, 0, 5],\n",
    "    [0, 2, 0, 7],\n",
    "    [0, 0, 3, 9]\n",
    "])\n",
    "rf=np.linalg.matrix_rank(M)\n",
    "print(f'El rango por filas es: {rf}')"
   ]
  },
  {
   "cell_type": "code",
   "execution_count": 7,
   "metadata": {},
   "outputs": [
    {
     "name": "stdout",
     "output_type": "stream",
     "text": [
      "El rangopor columnas es: 3\n"
     ]
    }
   ],
   "source": [
    "MT=np.transpose(M)\n",
    "MT\n",
    "rc=np.linalg.matrix_rank(MT)\n",
    "print(f'El rangopor columnas es: {rc}')"
   ]
  },
  {
   "cell_type": "markdown",
   "metadata": {},
   "source": [
    "## 7. Bosque de extensión mínima\n",
    "\n",
    "<img src=\"Images/bosque.png\" style=\"width: 800px;\"/>\n",
    "\n",
    "En clase hemos hecho el caso del grafo de la derecha. Le toca el turno al de la izquierda.\n",
    "Supongamos que queremos diseñar la red de internet para el otro campus universitario.  \n",
    "La red debe lograr la misma conectividad que el grafo de entrada.  \n",
    "Una arista representa un posible cable.  \n",
    "El peso de la arista es el coste de instalar el cable.  \n",
    "Nuestro objetivo es minimizar el coste total, usando el algoritmo Grow y el algoritmo Shrink.\n",
    "Lo único que en este caso se pide crear un procedimiento para el algoritmo Grow y otro para el Shrink que lo hagan automáticamente una vez les metamos como parámetros las aristas y sus pesos"
   ]
  },
  {
   "cell_type": "code",
   "execution_count": 1,
   "metadata": {},
   "outputs": [],
   "source": [
    "# Detallamos nuestro grafo\n",
    "grafo = [({\"Pembroke Campus\",\"Athletic Complex\"},7),\n",
    "         ({\"Pembroke Campus\",\"Bio-Med\"},2),\n",
    "         ({\"Bio-Med\",\"Athletic Complex\"},9)\n",
    "        ]"
   ]
  },
  {
   "cell_type": "code",
   "execution_count": 2,
   "metadata": {},
   "outputs": [],
   "source": [
    "# ------------------------------------------------------------------------------------------\n",
    "# Algoritmo Grow\n",
    "# ------------------------------------------------------------------------------------------\n",
    "# 1.Empezamos con un grafo vacio\n",
    "    \n",
    "def Algorithm_Grow(grafo):\n",
    "    #empezamos con un grafo vacio\n",
    "    bosque = []\n",
    "    return bosque"
   ]
  },
  {
   "cell_type": "code",
   "execution_count": 3,
   "metadata": {},
   "outputs": [
    {
     "data": {
      "text/plain": [
       "2"
      ]
     },
     "execution_count": 3,
     "metadata": {},
     "output_type": "execute_result"
    }
   ],
   "source": [
    "# Vamos ahora con el paso 2\n",
    "\n",
    "# ------------------------------------------------------------------------------------------\n",
    "# Algoritmo Grow\n",
    "# ------------------------------------------------------------------------------------------\n",
    "# HECHO 1.Empezamos con un grafo vacio\n",
    "# 2.Tenemos que añadir la arista con menor peso al grafo vacio\n",
    "# Para ello necesitamos una funcion que obtenga la arista de menor peso del grafo\n",
    "\n",
    "# ------------------------------------------------------------------------------------------\n",
    "# Fn_Get_PesoMin: Funcion para obtener el peso min de un grafo\n",
    "# ------------------------------------------------------------------------------------------\n",
    "def Fn_Get_PesoMin(grafo):\n",
    "    # inicializamos el peso a 100 (un valor más grande que el máximo peso de arista que encuentro)\n",
    "    peso=100\n",
    "    # Para cada arista en el grafo...\n",
    "    for v in grafo:\n",
    "        if peso>v[1]: #v[1] dice que coja para cada elemento su valor de la posición 1 (en Python), e.d, los pesos\n",
    "            peso=v[1] \n",
    "    return peso\n",
    "    \n",
    "# veamos que funciona con nuestro grafo\n",
    "Fn_Get_PesoMin(grafo)\n",
    "# Bien! Me devuelve el peso 3 que es el de la arista con menor peso"
   ]
  },
  {
   "cell_type": "code",
   "execution_count": 4,
   "metadata": {},
   "outputs": [
    {
     "data": {
      "text/plain": [
       "9"
      ]
     },
     "execution_count": 4,
     "metadata": {},
     "output_type": "execute_result"
    }
   ],
   "source": [
    "# Pero no quiero mirar \"a mano\" cuál es el valor máximo de arista\n",
    "\n",
    "# ------------------------------------------------------------------------------------------\n",
    "# Fn_Get_PesoMax: Funcion para obtener el peso max de un grafo\n",
    "# ------------------------------------------------------------------------------------------\n",
    "def Fn_Get_PesoMax(grafo):\n",
    "    # Inicializo la variable peso a 0\n",
    "    peso = 0\n",
    "    for v in grafo:\n",
    "        if peso<v[1]:\n",
    "            peso = v[1]\n",
    "    return peso\n",
    "\n",
    "# veamos que funciona con nuestro grafo\n",
    "Fn_Get_PesoMax(grafo)\n",
    "# Bien! Me devuelve el peso 8 que es el de la arista con mayor peso"
   ]
  },
  {
   "cell_type": "code",
   "execution_count": 5,
   "metadata": {},
   "outputs": [
    {
     "data": {
      "text/plain": [
       "2"
      ]
     },
     "execution_count": 5,
     "metadata": {},
     "output_type": "execute_result"
    }
   ],
   "source": [
    "# Modifiquemos entonces la función para obtener el peso mínimo\n",
    "\n",
    "# ------------------------------------------------------------------------------------------\n",
    "# Fn_Get_PesoMin: Funcion para obtener el peso min de un grafo\n",
    "# ------------------------------------------------------------------------------------------\n",
    "def Fn_Get_PesoMin(grafo):\n",
    "    # inicializamos el peso con el peso máximo de arista que encuentro\n",
    "    peso=Fn_Get_PesoMax(grafo)\n",
    "    # Para cada arista en el grafo...\n",
    "    for v in grafo:\n",
    "        if peso>v[1]: #v[1] dice que coja para cada elemento su valor de la posición 1 (en Python), e.d, los pesos\n",
    "            peso=v[1] \n",
    "    return peso\n",
    "    \n",
    "# veamos que funciona con nuestro grafo\n",
    "Fn_Get_PesoMin(grafo)\n",
    "# Bien! Me devuelve el peso 3 que es el de la arista con menor peso"
   ]
  },
  {
   "cell_type": "code",
   "execution_count": 6,
   "metadata": {},
   "outputs": [],
   "source": [
    "# Seguimos con el paso 2\n",
    "\n",
    "# ------------------------------------------------------------------------------------------\n",
    "# Algoritmo Grow\n",
    "# ------------------------------------------------------------------------------------------\n",
    "# HECHO 1.Empezamos con un grafo vacio\n",
    "# 2.Tenemos que añadir la arista con menor peso al grafo vacio\n",
    "\n",
    "\n",
    "def Algorithm_Grow(grafo):\n",
    "    bosque = []\n",
    "    # Creamos una copia del grafo para \"jugar\" sin alterar el grafo original\n",
    "    gr = grafo.copy()\n",
    "\n",
    "    # Declaramos la variable PesoMinimo como el peso mínimo de arista que encuentro en el grafo\n",
    "    PesoMinimo = Fn_Get_PesoMin(gr)\n",
    "    # Tenemos que sacar cuál es la arista asociada a ese PesoMinimo\n",
    "    # Queremos recorrer todos los elementos del grafo\n",
    "    for i in range(0,len(gr)):\n",
    "        # Si el peso del elemento del grafo es igual a ese PesoMinimo, esa será mi PrimeraArista\n",
    "        if gr[i][1] == PesoMinimo:  \n",
    "            PrimeraArista = gr.pop(i) #Usamos la función pop, que por un lado me devuelve el valor de gr en la\n",
    "                                      # posición i y lo insertamos en PrimeraArista\n",
    "                                      # y además lo elimina del grafo gr  \n",
    "            break\n",
    "    #Añado por fin la PrimeraArista a mi bosque\n",
    "    bosque.append(PrimeraArista)\n",
    "    \n",
    "    return bosque"
   ]
  },
  {
   "cell_type": "code",
   "execution_count": 7,
   "metadata": {},
   "outputs": [
    {
     "data": {
      "text/plain": [
       "[({'Bio-Med', 'Pembroke Campus'}, 2)]"
      ]
     },
     "execution_count": 7,
     "metadata": {},
     "output_type": "execute_result"
    }
   ],
   "source": [
    "# Comprobamos que funciona\n",
    "Algorithm_Grow(grafo)\n",
    "# Bien! Me devuelve el bosque con la arista de menor peso"
   ]
  },
  {
   "cell_type": "code",
   "execution_count": 8,
   "metadata": {},
   "outputs": [],
   "source": [
    "# Vamos con el paso 3\n",
    "\n",
    "# ------------------------------------------------------------------------------------------\n",
    "# Algoritmo Grow\n",
    "# ------------------------------------------------------------------------------------------\n",
    "# HECHO 1.Empezamos con un grafo vacio\n",
    "# HECHO 2.Añadimos el vertice con menor peso al grafo vacio\n",
    "# 3.Necesitamos saber qué nodos nos quedan por añadir\n",
    "# Para ello veamos primero una función para listar los nodos\n",
    "\n",
    "# ------------------------------------------------------------------------------------------\n",
    "# Fn_Get_Nodos: Funcion para obtener los nodos que componen un grado\n",
    "# ------------------------------------------------------------------------------------------\n",
    "def Fn_Get_Nodos(grafo):\n",
    "    # Inicializamos el conjunto \"nodos\" como un conjunto vacío\n",
    "    nodos = set()\n",
    "    # Para cada elemento del grafo...\n",
    "    for i in grafo:\n",
    "        # Para cada arista (primera posición) de esos elementos del grafo...\n",
    "        for e in i[0]:\n",
    "            # Lo añadimos al conjunto nodos.\n",
    "            # Al ser nodos un conjunto, si un elemento lo añado dos veces, sólo se añadirá la primera vez\n",
    "            nodos.add(e)    \n",
    "            \n",
    "    return nodos"
   ]
  },
  {
   "cell_type": "code",
   "execution_count": 9,
   "metadata": {},
   "outputs": [
    {
     "data": {
      "text/plain": [
       "{'Athletic Complex', 'Bio-Med', 'Pembroke Campus'}"
      ]
     },
     "execution_count": 9,
     "metadata": {},
     "output_type": "execute_result"
    }
   ],
   "source": [
    "# Comprobamos que funciona\n",
    "Fn_Get_Nodos(grafo)\n",
    "# Efectivamente, cada elemento sólo se ha añadido una vez\n",
    "# Así tengo listado todos los nodos del grafo"
   ]
  },
  {
   "cell_type": "code",
   "execution_count": 11,
   "metadata": {},
   "outputs": [],
   "source": [
    "# Seguimos en el paso 3\n",
    "\n",
    "# ------------------------------------------------------------------------------------------\n",
    "# Algoritmo Grow\n",
    "# ------------------------------------------------------------------------------------------\n",
    "# HECHO 1.Empezamos con un grafo vacio\n",
    "# HECHO 2.Añadimos el vertice con menor peso al grafo vacio\n",
    "# 3.Necesitamos saber qué nodos nos quedan por añadir\n",
    "# Estos van a ser todos los nodos menos los que ya estén en el bosque\n",
    "    \n",
    "def Algorithm_Grow(grafo):\n",
    "    bosque = []\n",
    "    gr = grafo.copy()\n",
    "\n",
    "    PesoMinimo = Fn_Get_PesoMin(gr)\n",
    "    for i in range(0,len(gr)):\n",
    "        if gr[i][1] == PesoMinimo:  \n",
    "            PrimeraArista = gr.pop(i)  \n",
    "            break\n",
    "    bosque.append(PrimeraArista)\n",
    "    \n",
    "    # Primero todos los nodos que nos faltan por añadir, una vez quitada la primera arista\n",
    "    # Esto es coger el grafo gr\n",
    "    nodosDeseados = Fn_Get_Nodos(gr)\n",
    "    \n",
    "    # Para ver que funciona, pongamos momentaneamente que nos devuelva la salida de nodosDeseados\n",
    "    return nodosDeseados"
   ]
  },
  {
   "cell_type": "code",
   "execution_count": 12,
   "metadata": {},
   "outputs": [
    {
     "data": {
      "text/plain": [
       "{'Athletic Complex', 'Bio-Med', 'Pembroke Campus'}"
      ]
     },
     "execution_count": 12,
     "metadata": {},
     "output_type": "execute_result"
    }
   ],
   "source": [
    "# Comprobamos que funciona\n",
    "Algorithm_Grow(grafo)\n",
    "# ¿Por qué no ha quitado ninguna? \n",
    "# Porque hay aristas que contienen también esos nodos de la arista de menor peso "
   ]
  },
  {
   "cell_type": "code",
   "execution_count": 13,
   "metadata": {},
   "outputs": [],
   "source": [
    "# Seguimos en el paso 3\n",
    "\n",
    "# ------------------------------------------------------------------------------------------\n",
    "# Algoritmo Grow\n",
    "# ------------------------------------------------------------------------------------------\n",
    "# HECHO 1.Empezamos con un grafo vacio\n",
    "# HECHO 2.Añadimos el vertice con menor peso al grafo vacio\n",
    "# 3.Necesitamos saber qué nodos nos quedan por añadir\n",
    "# Estos van a ser todos los nodos menos los que ya estén en el bosque\n",
    "\n",
    "# Ahora listamos los que están ya en el bosque\n",
    "# Esto es ahora mismo los nodos de la primera arista\n",
    "   \n",
    "def Algorithm_Grow(grafo):\n",
    "    bosque = []\n",
    "    gr = grafo.copy()\n",
    "\n",
    "    PesoMinimo = Fn_Get_PesoMin(gr)\n",
    "    for i in range(0,len(gr)):\n",
    "        if gr[i][1] == PesoMinimo:  \n",
    "            PrimeraArista = gr.pop(i)  \n",
    "            break\n",
    "    bosque.append(PrimeraArista)\n",
    "    \n",
    "    nodosDeseados = Fn_Get_Nodos(gr)\n",
    "    \n",
    "    nodosEnBosque=Fn_Get_Nodos(bosque)\n",
    "    \n",
    "    # Para ver que funciona, pongamos momentaneamente que nos devuelva la salida de nodosEnBosque      \n",
    "    return nodosEnBosque"
   ]
  },
  {
   "cell_type": "code",
   "execution_count": 14,
   "metadata": {},
   "outputs": [
    {
     "data": {
      "text/plain": [
       "{'Bio-Med', 'Pembroke Campus'}"
      ]
     },
     "execution_count": 14,
     "metadata": {},
     "output_type": "execute_result"
    }
   ],
   "source": [
    "# Comprobamos que funciona\n",
    "Algorithm_Grow(grafo)\n",
    "# Efectivamente me devuelve los dos nodos de la primera arista"
   ]
  },
  {
   "cell_type": "code",
   "execution_count": 15,
   "metadata": {},
   "outputs": [],
   "source": [
    "# Seguimos en el paso 3\n",
    "\n",
    "# ------------------------------------------------------------------------------------------\n",
    "# Algoritmo Grow\n",
    "# ------------------------------------------------------------------------------------------\n",
    "# HECHO 1.Empezamos con un grafo vacio\n",
    "# HECHO 2.Añadimos el vertice con menor peso al grafo vacio\n",
    "# 3.Necesitamos saber qué nodos nos quedan por añadir\n",
    "\n",
    "# ¿Qué nodos son entonces los que me quedan por añadir?\n",
    "# Estos van a ser todos los nodos menos los que ya estén en el bosque\n",
    "   \n",
    "def Algorithm_Grow(grafo):\n",
    "    bosque = []\n",
    "    gr = grafo.copy()\n",
    "\n",
    "    PesoMinimo = Fn_Get_PesoMin(gr)\n",
    "    for i in range(0,len(gr)):\n",
    "        if gr[i][1] == PesoMinimo:  \n",
    "            PrimeraArista = gr.pop(i)  \n",
    "            break\n",
    "    bosque.append(PrimeraArista)\n",
    "    \n",
    "    nodosDeseados = Fn_Get_Nodos(gr)\n",
    "    \n",
    "    nodosEnBosque=Fn_Get_Nodos(bosque)\n",
    "    \n",
    "    #que nodos quedan por añadir al bosque\n",
    "    nodosQueQuedan = nodosDeseados - nodosEnBosque\n",
    "    \n",
    "    # Otra vez puntualmente cambiemos la salida para que muestre nodosQueQuedan\n",
    "    return nodosQueQuedan"
   ]
  },
  {
   "cell_type": "code",
   "execution_count": 16,
   "metadata": {},
   "outputs": [
    {
     "data": {
      "text/plain": [
       "{'Athletic Complex'}"
      ]
     },
     "execution_count": 16,
     "metadata": {},
     "output_type": "execute_result"
    }
   ],
   "source": [
    "# Comprobamos que funciona\n",
    "Algorithm_Grow(grafo)\n",
    "# Efectivamente Gregorian Quad y Keeney Quad son los dos nodos que faltan\n",
    "# NOTA: Lo bueno de trabajar con conjuntos es que me permite añadir, quitar, etc..sin importar que se repitan "
   ]
  },
  {
   "cell_type": "code",
   "execution_count": 17,
   "metadata": {},
   "outputs": [],
   "source": [
    "# Vamos ya con el paso 4\n",
    "\n",
    "# ------------------------------------------------------------------------------------------\n",
    "# Algoritmo Grow\n",
    "# ------------------------------------------------------------------------------------------\n",
    "# HECHO 1.Empezamos con un grafo vacio\n",
    "# HECHO 2.Añadimos el vertice con menor peso al grafo vacio\n",
    "# HECHO 3.Vemos que nodos nos quedan por añadir\n",
    "# 4.Añadimos el nodo que tenga un vertice que una con el arbol (ahora mismo son los nodos de la primera arista) \n",
    "# y que tenga el peso de arista más pequeño\n",
    "    \n",
    "def Algorithm_Grow(grafo):\n",
    "    bosque = []\n",
    "    gr = grafo.copy()\n",
    "    nodosDeseados = Fn_Get_Nodos(gr)\n",
    "    \n",
    "    minimo = Fn_Get_PesoMin(gr)\n",
    "    for i in range(0,len(gr)):\n",
    "        if gr[i][1] == minimo:\n",
    "            nuevoVertice = gr.pop(i)\n",
    "            break\n",
    "    bosque.append(nuevoVertice)\n",
    "    \n",
    "    nodosEnBosque=Fn_Get_Nodos(bosque)\n",
    "    \n",
    "    nodosQueQuedan = nodosDeseados - nodosEnBosque\n",
    "    \n",
    "    # Recorremos los nodos que faltan\n",
    "    while nodosQueQuedan:\n",
    "        for nodo in nodosQueQuedan:\n",
    "            # Recorremos los elementos del grafo gr\n",
    "            for v in gr:\n",
    "                # Necesitamos que este nodo esté en la arista del elemento del grafo (v[0])\n",
    "                if nodo in v[0]:\n",
    "                    # creamos el conjunto vertices con los dos nodos de esta arista\n",
    "                    vertices = v[0].copy()\n",
    "                    # Uno de estos vértices lo metemos en unNodo y lo eliminamos del conjunto vertices\n",
    "                    unNodo = vertices.pop()\n",
    "                    # Metemos el otro vertice en otroNodo \n",
    "                    otroNodo = vertices.pop()\n",
    "                    # Tenemos que ver ahora si el nodo se corresponde con unNodo u otroNodo\n",
    "                    if nodo == otroNodo:\n",
    "                        nodoBuscado = otroNodo\n",
    "                    else:\n",
    "                        nodoBuscado = unNodo\n",
    "                    # Ahora bien, si ese nodoBuscado es de los que me faltan (nodosQueQuedan), tengo que mirar \n",
    "                    # cuál es la arista de menor peso\n",
    "                    if nodoBuscado in nodosQueQuedan:\n",
    "                        # Calculo el maximo peso del grafo gr\n",
    "                        maximo=Fn_Get_PesoMax(gr)\n",
    "                        # A partir de aquí, miro el peso de esa arista que contiene ese nodoBuscado\n",
    "                        # y si tiene menor peso que la que tiene máximo peso entre las que quedan\n",
    "                        # la sustituyo por este nuevo valor\n",
    "                        if v[1] <= maximo:\n",
    "                            maximo = v[1]\n",
    "                            nodoNuevo = nodoBuscado\n",
    "                            # Para ver que funciona, metamos que nos enseñe los nodoNuevo\n",
    "                            return nodoNuevo\n",
    "    # Cuando termina el bucle tenemos el nodo que tenemos que añadir (nodoNuevo)"
   ]
  },
  {
   "cell_type": "code",
   "execution_count": 18,
   "metadata": {},
   "outputs": [
    {
     "data": {
      "text/plain": [
       "'Athletic Complex'"
      ]
     },
     "execution_count": 18,
     "metadata": {},
     "output_type": "execute_result"
    }
   ],
   "source": [
    "# Comprobamos que funciona\n",
    "Algorithm_Grow(grafo)\n",
    "# Efectivamente, vuando termina el bucle tenemos el nodo Keeney Quad que es el que queremos añadir"
   ]
  },
  {
   "cell_type": "code",
   "execution_count": 19,
   "metadata": {},
   "outputs": [],
   "source": [
    "# Tenemos que seguir dentro del while\n",
    "# Una vez localizado el siguiente nodo a añadir, lo que tengo que hacer es buscar una arista que una este nodo\n",
    "# con lo que ya tengo dentro de mi \"bosque\"\n",
    "\n",
    "# Para esto vamos a definir una nueva función, que haga exactamente esto\n",
    "\n",
    "# -----------------------------------------------------------------------------------------------\n",
    "# Fn_Get_Vertices : Funcion que devuelve las aristas entre un nodo y una lista de nodos o grafo\n",
    "# -----------------------------------------------------------------------------------------------\n",
    "\n",
    "def Fn_Get_Vertices(grafo, nodoInicial, listaDeNodos):\n",
    "    # Declaramos la lista l vacía\n",
    "    l = []\n",
    "    # Para todos los elementos del grafo...\n",
    "    for i in grafo:\n",
    "        # creamos el conjunto vertices con los dos nodos de cada una de las aristas (una cada vez)\n",
    "        vertices = i[0].copy()\n",
    "        # Uno de estos vértices lo metemos en unNodo y lo eliminamos del conjunto vertices\n",
    "        unNodo = vertices.pop()\n",
    "        # Metemos el otro vertice en otroNodo \n",
    "        otroNodo = vertices.pop()\n",
    "        # Si uno de estos dos vertices es el nodo contra el que buscamos y el otro está en la listaDeNodos\n",
    "        # entonces añadimos este nuevo vertice a la lista l\n",
    "        if (unNodo == nodoInicial and otroNodo in listaDeNodos) or (otroNodo \n",
    "                                                                    == nodoInicial and unNodo in listaDeNodos):\n",
    "            l.append(i)\n",
    "    return l"
   ]
  },
  {
   "cell_type": "code",
   "execution_count": 20,
   "metadata": {},
   "outputs": [
    {
     "data": {
      "text/plain": [
       "[({'Bio-Med', 'Pembroke Campus'}, 2)]"
      ]
     },
     "execution_count": 20,
     "metadata": {},
     "output_type": "execute_result"
    }
   ],
   "source": [
    "# Comprobamos que funciona\n",
    "Fn_Get_Vertices(grafo, 'Pembroke Campus', {'Pembroke Campus', 'Bio-Med'})\n",
    "# Efectivamente nos devuelve los elementos del grafo que contienen Pembroke Campus"
   ]
  },
  {
   "cell_type": "code",
   "execution_count": 21,
   "metadata": {},
   "outputs": [],
   "source": [
    "# Seguimos con el while del paso 4\n",
    "\n",
    "# ------------------------------------------------------------------------------------------\n",
    "# Algoritmo Grow\n",
    "# ------------------------------------------------------------------------------------------\n",
    "# HECHO 1.Empezamos con un grafo vacio\n",
    "# HECHO 2.Añadimos el vertice con menor peso al grafo vacio\n",
    "# HECHO 3.Vemos que nodos nos quedan por añadir\n",
    "# 4.Añadimos el nodo que tenga un vertice que una con el arbol (ahora mismo son los nodos de la primera arista) \n",
    "# y que tenga el peso de arista más pequeño\n",
    "\n",
    "def Algorithm_Grow(grafo):\n",
    "    bosque = []\n",
    "    gr = grafo.copy()\n",
    "    nodosDeseados = Fn_Get_Nodos(gr)\n",
    "    \n",
    "    minimo = Fn_Get_PesoMin(gr)\n",
    "    for i in range(0,len(gr)):\n",
    "        if gr[i][1] == minimo:\n",
    "            nuevoVertice = gr.pop(i)\n",
    "            break\n",
    "    bosque.append(nuevoVertice)\n",
    "    \n",
    "    nodosEnBosque=Fn_Get_Nodos(bosque)\n",
    "    \n",
    "    nodosQueQuedan = nodosDeseados - nodosEnBosque\n",
    "    \n",
    "    while nodosQueQuedan:\n",
    "        for nodo in nodosQueQuedan:\n",
    "            for v in gr:\n",
    "                if nodo in v[0]:\n",
    "                    vertices = v[0].copy()\n",
    "                    unNodo = vertices.pop()\n",
    "                    otroNodo = vertices.pop()\n",
    "                    if nodo == otroNodo:\n",
    "                        nodoBuscado = otroNodo\n",
    "                    else:\n",
    "                        nodoBuscado = unNodo\n",
    "                    if nodoBuscado in nodosQueQuedan:\n",
    "                        maximo=Fn_Get_PesoMax(gr)\n",
    "                        if v[1] <= maximo:\n",
    "                            maximo = v[1]\n",
    "                            nodoNuevo = nodoBuscado\n",
    "                            \n",
    "        # busco entre todos los vertices los que unan el nodo buscado con los nodos que tengo\n",
    "        # (Haría exactamente lo que hemos visto en el ejemplo de comprobación)\n",
    "        listaVertices = Fn_Get_Vertices(gr, nodoNuevo, nodosEnBosque)\n",
    "\n",
    "        # Y cojo la de menor peso\n",
    "        minimo = Fn_Get_PesoMin(listaVertices)\n",
    "        for i in range(0,len(listaVertices)):\n",
    "            if listaVertices[i][1] == minimo: # Miro los pesos\n",
    "                nuevoVertice = listaVertices.pop(i)\n",
    "                break\n",
    "        # Añado esta arista de peso mínimo al bosque\n",
    "        bosque.append(nuevoVertice)\n",
    "        # Momentaneamente le añadimos un break para que no reejecute el while\n",
    "        # ya que entraría en bucle infinito ya que siempre cogería el mismo elemento del grafo\n",
    "        break\n",
    "        \n",
    "    return bosque           "
   ]
  },
  {
   "cell_type": "code",
   "execution_count": 22,
   "metadata": {},
   "outputs": [
    {
     "data": {
      "text/plain": [
       "[({'Bio-Med', 'Pembroke Campus'}, 2),\n",
       " ({'Athletic Complex', 'Pembroke Campus'}, 7)]"
      ]
     },
     "execution_count": 22,
     "metadata": {},
     "output_type": "execute_result"
    }
   ],
   "source": [
    "# Comprobamos que funciona\n",
    "Algorithm_Grow(grafo)"
   ]
  },
  {
   "cell_type": "code",
   "execution_count": 23,
   "metadata": {},
   "outputs": [],
   "source": [
    "# Nos faltaría el paso 5\n",
    "\n",
    "# ------------------------------------------------------------------------------------------\n",
    "# Algoritmo Grow\n",
    "# ------------------------------------------------------------------------------------------\n",
    "# HECHO 1.Empezamos con un grafo vacio\n",
    "# HECHO 2.Añadimos el vertice con menor peso al grafo vacio\n",
    "# HECHO 3.Vemos que nodos nos quedan por añadir\n",
    "# HECHO 4.Añadimos el nodo que tenga un vertice que una con el arbol (ahora mismo son los nodos de la primera arista) \n",
    "# y que tenga el peso de arista más pequeño\n",
    "# 5.Si siguen quedando nodos por añadir repetimos 4\n",
    "\n",
    "def Algorithm_Grow(grafo):\n",
    "    bosque = []\n",
    "    gr = grafo.copy()\n",
    "    nodosDeseados = Fn_Get_Nodos(gr)\n",
    "    \n",
    "    minimo = Fn_Get_PesoMin(gr)\n",
    "    for i in range(0,len(gr)):\n",
    "        if gr[i][1] == minimo:\n",
    "            nuevoVertice = gr.pop(i)\n",
    "            break\n",
    "    bosque.append(nuevoVertice)\n",
    "    \n",
    "    nodosEnBosque=Fn_Get_Nodos(bosque)\n",
    "    \n",
    "    nodosQueQuedan = nodosDeseados - nodosEnBosque\n",
    "    \n",
    "    while nodosQueQuedan:\n",
    "        for nodo in nodosQueQuedan:\n",
    "            for v in gr:\n",
    "                if nodo in v[0]:\n",
    "                    vertices = v[0].copy()\n",
    "                    unNodo = vertices.pop()\n",
    "                    otroNodo = vertices.pop()\n",
    "                    if nodo == otroNodo:\n",
    "                        nodoBuscado = otroNodo\n",
    "                    else:\n",
    "                        nodoBuscado = unNodo\n",
    "                    if nodoBuscado in nodosQueQuedan:\n",
    "                        maximo=Fn_Get_PesoMax(gr)\n",
    "                        if v[1] <= maximo:\n",
    "                            maximo = v[1]\n",
    "                            nodoNuevo = nodoBuscado\n",
    "                            \n",
    "        listaVertices = Fn_Get_Vertices(gr, nodoNuevo, nodosEnBosque)\n",
    "\n",
    "        minimo = Fn_Get_PesoMin(listaVertices)\n",
    "        for i in range(0,len(listaVertices)):\n",
    "            if listaVertices[i][1] == minimo: # Miro los pesos\n",
    "                nuevoVertice = listaVertices.pop(i)\n",
    "                break\n",
    "        bosque.append(nuevoVertice)\n",
    "        \n",
    "        # Actualizo nodosEnBosque y nodosQueQuedan para la siguiente iteración del while\n",
    "        # El while se iría repitiendo siempre y cuando queden elementos en nodosQueQuedan\n",
    "        nodosEnBosque=Fn_Get_Nodos(bosque)\n",
    "        nodosQueQuedan = nodosDeseados - nodosEnBosque\n",
    "        \n",
    "    return bosque  "
   ]
  },
  {
   "cell_type": "code",
   "execution_count": 24,
   "metadata": {},
   "outputs": [
    {
     "data": {
      "text/plain": [
       "[({'Bio-Med', 'Pembroke Campus'}, 2),\n",
       " ({'Athletic Complex', 'Pembroke Campus'}, 7)]"
      ]
     },
     "execution_count": 24,
     "metadata": {},
     "output_type": "execute_result"
    }
   ],
   "source": [
    "# Finalmente ya tenemos nuestro algoritmo\n",
    "Algorithm_Grow(grafo)"
   ]
  },
  {
   "cell_type": "code",
   "execution_count": 25,
   "metadata": {},
   "outputs": [],
   "source": [
    "# Empezamos el algoritmo\n",
    "\n",
    "# ------------------------------------------------------------------------------------------\n",
    "# Algoritmo Shrink\n",
    "# ------------------------------------------------------------------------------------------\n",
    "# 1.Empezamos con el grafo completo\n",
    "\n",
    "def Algorithm_Shrink(grafo):\n",
    "    bosque = grafo.copy()\n",
    "    \n",
    "    return(bosque)"
   ]
  },
  {
   "cell_type": "code",
   "execution_count": 26,
   "metadata": {},
   "outputs": [
    {
     "data": {
      "text/plain": [
       "[({'Athletic Complex', 'Pembroke Campus'}, 7),\n",
       " ({'Bio-Med', 'Pembroke Campus'}, 2),\n",
       " ({'Athletic Complex', 'Bio-Med'}, 9)]"
      ]
     },
     "execution_count": 26,
     "metadata": {},
     "output_type": "execute_result"
    }
   ],
   "source": [
    "# Comprobamos que funciona\n",
    "Algorithm_Shrink(grafo)\n",
    "# Nos devuelve toda la colección de aristas del grafo :+1:"
   ]
  },
  {
   "cell_type": "code",
   "execution_count": 27,
   "metadata": {},
   "outputs": [],
   "source": [
    "# Vamos con el paso 2\n",
    "\n",
    "# ------------------------------------------------------------------------------------------\n",
    "# Algoritmo Shrink\n",
    "# ------------------------------------------------------------------------------------------\n",
    "# HECHO 1.Empezamos con el grafo completo\n",
    "# 2.Buscamos el vertice con mas peso y lo quitamos del bosque\n",
    "\n",
    "# Para este paso vamos a necesitar una nueva función que nos de la lista de pesos de un grafo\n",
    "\n",
    "# ------------------------------------------------------------------------------------------\n",
    "# Fn_Get_Pesos: Funcion para obtener la lista de pesos de un grafo\n",
    "# ------------------------------------------------------------------------------------------\n",
    "\n",
    "def Fn_Get_Pesos(grafo):\n",
    "    # Creamos la lista vacía\n",
    "    l = []\n",
    "    # Para los elementos del grafo...\n",
    "    for i in grafo:\n",
    "        # ...Cogemos sus pesos y los añadimos a la lista l\n",
    "        l.append(i[1])\n",
    "    # Ordenamos la lista l de modo decreciente\n",
    "    l.sort(reverse=True)\n",
    "    return l\n"
   ]
  },
  {
   "cell_type": "code",
   "execution_count": 28,
   "metadata": {},
   "outputs": [
    {
     "data": {
      "text/plain": [
       "[9, 7, 2]"
      ]
     },
     "execution_count": 28,
     "metadata": {},
     "output_type": "execute_result"
    }
   ],
   "source": [
    "# Comprobamos que funciona\n",
    "Fn_Get_Pesos(grafo)\n",
    "# Que efectivamente son los pesos del grafo ordenados de modo decreciente"
   ]
  },
  {
   "cell_type": "code",
   "execution_count": 29,
   "metadata": {},
   "outputs": [],
   "source": [
    "# Volvamos al paso 2 del algoritmo\n",
    "\n",
    "# ------------------------------------------------------------------------------------------\n",
    "# Algoritmo Shrink\n",
    "# ------------------------------------------------------------------------------------------\n",
    "# HECHO 1.Empezamos con el grafo completo\n",
    "# 2.Buscamos la arista con mas peso y la quitamos del bosque\n",
    "\n",
    "\n",
    "def Algorithm_Shrink(grafo):\n",
    "    bosque = grafo.copy()\n",
    "    \n",
    "    # Obtenemos el listado de pesos en orden decreciente\n",
    "    pesos = Fn_Get_Pesos(grafo)\n",
    "    \n",
    "    # Vamos a recorrer el listado de pesos\n",
    "    while pesos:\n",
    "        # Cogemos el de la posición 0 (el de mayor peso)\n",
    "        pesoBuscado = pesos[0] \n",
    "        # Vamos a buscar la arista asociada a ese peso\n",
    "        # Tenemos que recorrer el bosque\n",
    "        for i in range(0, len(bosque)): \n",
    "            # y buscar qué elemento coincide en peso con el buscado\n",
    "            if bosque[i][1] == pesoBuscado:\n",
    "                # Nos guardamos ese elemento y lo quitamos del bosque\n",
    "                nuevoVertice = bosque.pop(i)\n",
    "                # No queremos volver a buscar ese peso, así que lo eliminamos de la lista pesos\n",
    "                pesos.remove(pesoBuscado)\n",
    "                break\n",
    "    \n",
    "    return(bosque)"
   ]
  },
  {
   "cell_type": "code",
   "execution_count": 30,
   "metadata": {},
   "outputs": [
    {
     "data": {
      "text/plain": [
       "[]"
      ]
     },
     "execution_count": 30,
     "metadata": {},
     "output_type": "execute_result"
    }
   ],
   "source": [
    "# Comprobamos que funciona\n",
    "Algorithm_Shrink(grafo)\n",
    "# Nos sale vacío porque lo único que estamos haciendo es buscar para el máximo peso, su arista y borrarla de bosque\n",
    "# y así con todas\n",
    "# Tenemos que añadir más condiciones en el while...Sigamos!"
   ]
  },
  {
   "cell_type": "code",
   "execution_count": 31,
   "metadata": {},
   "outputs": [],
   "source": [
    "# Vamos ahora con el paso 3\n",
    "\n",
    "# ------------------------------------------------------------------------------------------\n",
    "# Algoritmo Shrink\n",
    "# ------------------------------------------------------------------------------------------\n",
    "# HECHO 1.Empezamos con el grafo completo\n",
    "# HECHO 2.Buscamos la arista con mas peso y la quitamos del bosque\n",
    "# 3.Miramos a ver si hemos dejado algun nodo sin conectar o si hemos generado dos islas \n",
    "#                 (es decir que todos los nodos del grafo tienen que seguir conectados entre ellos)\n",
    "\n",
    "# Para ello necesitamos una nueva función, que checkee si existe un camino\n",
    "\n",
    "# ------------------------------------------------------------------------------------------\n",
    "# Fn_Check_Camino: Función que checkea si entre dos vértices hay un camino\n",
    "# ------------------------------------------------------------------------------------------\n",
    "\n",
    "def Fn_Check_Camino(grafoOriginal,nodoA,nodoB):\n",
    "    grafo=grafoOriginal.copy()\n",
    "    \n",
    "    # Queremos ver si hay un camino directo\n",
    "    # Inicializamos la variable directo a False\n",
    "    # directo=False\n",
    "    # Recorremos los elementos del grafo\n",
    "    for v in grafo:\n",
    "        # Vemos si los dos vértices están en ese elemento del grafo\n",
    "        # Esto sería un camino directo\n",
    "        if (nodoA in v[0]) and (nodoB in v[0]):\n",
    "            return True"
   ]
  },
  {
   "cell_type": "code",
   "execution_count": 32,
   "metadata": {},
   "outputs": [
    {
     "data": {
      "text/plain": [
       "True"
      ]
     },
     "execution_count": 32,
     "metadata": {},
     "output_type": "execute_result"
    }
   ],
   "source": [
    "# Comprobamos que funciona\n",
    "Fn_Check_Camino(grafo,'Pembroke Campus','Athletic Complex')\n",
    "# Efectivamente hay una arista que une Pembroke Campus con Athletic Complex"
   ]
  },
  {
   "cell_type": "code",
   "execution_count": 33,
   "metadata": {},
   "outputs": [
    {
     "data": {
      "text/plain": [
       "True"
      ]
     },
     "execution_count": 33,
     "metadata": {},
     "output_type": "execute_result"
    }
   ],
   "source": [
    "# Ahora bien, ¿y si no existe un camino directo, entonces existe un camino?\n",
    "# Como por ejemplo entre Pembroke Campus y Bio-Med\n",
    "Fn_Check_Camino(grafo,'Pembroke Campus','Bio-Med')\n",
    "# No devuelve True porque no hay un camino directo"
   ]
  },
  {
   "cell_type": "code",
   "execution_count": 34,
   "metadata": {},
   "outputs": [],
   "source": [
    "# Necesitamos entonces una función  que devuelva los vértices que conectan al nodo dado\n",
    "\n",
    "# ------------------------------------------------------------------------------------------\n",
    "# Fn_Get_NodConect: Función para obtener los nodos que conectan al nodo dado\n",
    "# ------------------------------------------------------------------------------------------\n",
    "\n",
    "def Fn_Get_NodConect (grafoOriginal,nodo):\n",
    "    # inicializamos el conjunto nodos a vacío\n",
    "    nodos=set()\n",
    "    #Recorremos los elementos de grafoOriginal\n",
    "    for v in grafoOriginal:\n",
    "        # Buscamos si el nodo que hemos metido como parámetro pertenece a ese elemento del grafoOriginal\n",
    "        if nodo in v[0]:\n",
    "            # Si está lo añadimos a nodos\n",
    "            nodos=nodos | (v[0])  # La | es unión de conjuntos\n",
    "        # Una vez añadido, como el elemento que añadimos tiene también el nodo que estamos comprobando\n",
    "        # y éste no le queremos en \"nodos\", lo eliminamos del conjunto\n",
    "        nodos= nodos - {nodo}\n",
    "    return nodos"
   ]
  },
  {
   "cell_type": "code",
   "execution_count": 35,
   "metadata": {},
   "outputs": [
    {
     "data": {
      "text/plain": [
       "{'Athletic Complex', 'Bio-Med'}"
      ]
     },
     "execution_count": 35,
     "metadata": {},
     "output_type": "execute_result"
    }
   ],
   "source": [
    "# Comprobamos que funciona\n",
    "Fn_Get_NodConect (grafo,'Pembroke Campus')\n",
    "# Efectivamente nos devuelve los vértices con los que Pembroke Campus comparte arista"
   ]
  },
  {
   "cell_type": "code",
   "execution_count": 36,
   "metadata": {},
   "outputs": [],
   "source": [
    "# Volvemos a nuestra función de checkear el camino\n",
    "\n",
    "# ------------------------------------------------------------------------------------------\n",
    "# Fn_Check_Camino: Función que checkea si entre dos vértices hay un camino\n",
    "# ------------------------------------------------------------------------------------------\n",
    "\n",
    "def Fn_Check_Camino(grafoOriginal,nodoA,nodoB):\n",
    "    grafo=grafoOriginal.copy()\n",
    "    \n",
    "    for v in grafo:\n",
    "        if (nodoA in v[0]) and (nodoB in v[0]):\n",
    "            return True\n",
    "    # Para el caso en el que no hay un camino directo, hay que buscar entre los nodos con los que el vértice\n",
    "    # no comparte un camino\n",
    "    # Entonces miramos con los vértices con los que comparte camino\n",
    "    nodosParaBuscar=Fn_Get_NodConect (grafo,nodoA)\n",
    "    # La idea ahora es quitar el nodoA\n",
    "    # Para ello vamos a necesitar una nueva función"
   ]
  },
  {
   "cell_type": "code",
   "execution_count": 37,
   "metadata": {},
   "outputs": [],
   "source": [
    "# ------------------------------------------------------------------------------------------\n",
    "# Fn_Eliminar_Nodo: Función para eliminar un nodo de un grafo dado\n",
    "# ------------------------------------------------------------------------------------------\n",
    "\n",
    "def Fn_Eliminar_Nodo (grafo,nodo):\n",
    "    # Creamos una copia del grafo\n",
    "    grafoCopia=grafo.copy()\n",
    "    # Recorremos los elementos del grafo\n",
    "    for v in grafo:\n",
    "        # Miramos si el nodo está en ese elemento del grafo\n",
    "        if nodo in v[0]:\n",
    "            # Si está, eliminamos ese elemento del grafo\n",
    "            grafoCopia.remove(v)\n",
    "    return grafoCopia"
   ]
  },
  {
   "cell_type": "code",
   "execution_count": 38,
   "metadata": {},
   "outputs": [
    {
     "data": {
      "text/plain": [
       "[({'Athletic Complex', 'Bio-Med'}, 9)]"
      ]
     },
     "execution_count": 38,
     "metadata": {},
     "output_type": "execute_result"
    }
   ],
   "source": [
    "# Comprobamos que funciona\n",
    "Fn_Eliminar_Nodo (grafo,'Pembroke Campus')\n",
    "# Efectivamente ha borrado las dos aristas que llegaban al vértice Pembroke Campus"
   ]
  },
  {
   "cell_type": "code",
   "execution_count": 39,
   "metadata": {},
   "outputs": [],
   "source": [
    "# Volvemos a nuestra función de checkear el camino\n",
    "# Queríamos quitar el nodoA\n",
    "\n",
    "# ------------------------------------------------------------------------------------------\n",
    "# Fn_Check_Camino: Función que checkea si entre dos vértices hay un camino\n",
    "# ------------------------------------------------------------------------------------------\n",
    "\n",
    "def Fn_Check_Camino(grafoOriginal,nodoA,nodoB):\n",
    "    grafo=grafoOriginal.copy()\n",
    "    \n",
    "    for v in grafo:\n",
    "        if (nodoA in v[0]) and (nodoB in v[0]):\n",
    "            return True\n",
    "    nodosParaBuscar=Fn_Get_NodConect (grafo,nodoA)\n",
    "    # Quitar el nodoA\n",
    "    nuevoGrafo=Fn_Eliminar_Nodo(grafo,nodoA)\n",
    "    # Ahora bien, nos preguntamos:\n",
    "    # ¿Para los vértices unidos a nodoA (nodosParaBuscar) dejando de lado el nodoA (nuevoGrafo)\n",
    "    # existe un camino directo hasta nodoB?\n",
    "    for e in nodosParaBuscar:\n",
    "        if Fn_Check_Camino(nuevoGrafo,e,nodoB):\n",
    "            return True   "
   ]
  },
  {
   "cell_type": "code",
   "execution_count": 40,
   "metadata": {},
   "outputs": [
    {
     "data": {
      "text/plain": [
       "True"
      ]
     },
     "execution_count": 40,
     "metadata": {},
     "output_type": "execute_result"
    }
   ],
   "source": [
    "# Comprobamos que funciona para el caso que no nos devolvía valor antes\n",
    "Fn_Check_Camino(grafo,'Pembroke Campus','Athletic Complex')\n",
    "# Perfect!"
   ]
  },
  {
   "cell_type": "code",
   "execution_count": 41,
   "metadata": {},
   "outputs": [],
   "source": [
    "# Continuamos ya con el paso 3 del algoritmo Shrink\n",
    "\n",
    "# ------------------------------------------------------------------------------------------\n",
    "# Algoritmo Shrink\n",
    "# ------------------------------------------------------------------------------------------\n",
    "# HECHO 1.Empezamos con el grafo completo\n",
    "# HECHO 2.Buscamos la arista con mas peso y la quitamos del bosque\n",
    "# 3.Miramos a ver si hemos dejado algun nodo sin conectar o si hemos generado dos islas \n",
    "#                 (es decir que todos los nodos del grafo tienen que seguir conectados entre ellos)\n",
    "\n",
    "# Esto lo seguiremos haciendo dentro del while\n",
    "\n",
    "def Algorithm_Shrink(grafo):\n",
    "    bosque = grafo.copy()\n",
    "    \n",
    "    pesos = Fn_Get_Pesos(grafo)\n",
    "    # Necesitamos antes de meternos en el while el listado de vértices del grafo original\n",
    "    nodosTotales = Fn_Get_Nodos(grafo)\n",
    "    \n",
    "    while pesos:\n",
    "        pesoBuscado = pesos[0] \n",
    "        for i in range(0, len(bosque)): \n",
    "            if bosque[i][1] == pesoBuscado:\n",
    "                nuevoVertice = bosque.pop(i)\n",
    "                pesos.remove(pesoBuscado)\n",
    "                break\n",
    "        # Queremos comprobar que \"bosque\", que ahora tiene una arista menos\n",
    "        # , sigue teniendo un camino entre cada par de nodos\n",
    "        # Vamos a recorrer cada uno de los vértices que teníamos guardados del bosque original\n",
    "        for n1 in nodosTotales:\n",
    "            # Incluimos este nodo en un conjunto nuevo, el conjunto esteNodo\n",
    "            esteNodo = set()\n",
    "            esteNodo.add(n1)\n",
    "            # el resto de nodos los meto en otro conjunto, el conjunto otrosNodos\n",
    "            otrosNodos = nodosTotales - esteNodo\n",
    "            # Vamos a comprobar para cada vértices de otrosNodos que existe un camino a \"esteNodo\"\n",
    "            # con el bosque tal y como está actualmente\n",
    "            for n2 in otrosNodos:\n",
    "                conectados=Fn_Check_Camino(bosque, n1, n2)\n",
    "                # Si encuentro un camino me salgo del bucle ya que ya habría acabado mi comprobación\n",
    "                if conectados is True:\n",
    "                    break\n",
    "        \n",
    "        # Ahora bien, si en esta iteración, el bosque ha perdido un vértice, es decir, que el conjunto\n",
    "        # Fn_Get_Nodos(bosque) es más pequeño que nodosTotales, entonces el vértice nuevoVertice que había quitado\n",
    "        # en esta iteración, tengo que volver a añadirlo\n",
    "        if Fn_Get_Nodos(bosque) != nodosTotales:\n",
    "            bosque.append(nuevoVertice)\n",
    "        # También, si al hacer la comprobación, me hubiese salido que no están conectados, también en este caso\n",
    "        # tengo que volver a añadir el vértice quitado\n",
    "        elif conectados is False:\n",
    "            bosque.append(nuevoVertice)\n",
    "            \n",
    "    return(bosque)"
   ]
  },
  {
   "cell_type": "code",
   "execution_count": 42,
   "metadata": {},
   "outputs": [
    {
     "data": {
      "text/plain": [
       "[({'Athletic Complex', 'Pembroke Campus'}, 7),\n",
       " ({'Bio-Med', 'Pembroke Campus'}, 2)]"
      ]
     },
     "execution_count": 42,
     "metadata": {},
     "output_type": "execute_result"
    }
   ],
   "source": [
    "Algorithm_Shrink(grafo)"
   ]
  },
  {
   "cell_type": "markdown",
   "metadata": {},
   "source": [
    "## 8. El dígito móvil\n",
    "\n",
    "<img src=\"Images/imagenx2.png\" style=\"width: 500px;\"/>\n",
    "\n",
    "Hallar un número tal que, multiplicado por 3 y dividido entre 2, dé el mismo resultado que si moviéramos el primer dígito del número, el 3, desde el principio hasta el final de la fila de dígitos\n",
    "\n",
    "PISTA: Los únicos números que, al ser multiplicados por determinadas cifras, producen otros números cuyos dígitos siguen la misma secuencia que el número original aunque comenzando por otro de sus dígitos, son los períodos de los números decimales periódicos. Estos números se dicen **cíclicos**.  \n",
    "Nosotros queremos buscar un número de este tipo\n",
    "\n",
    "PISTA: No hay que resolverlo con Python"
   ]
  },
  {
   "cell_type": "markdown",
   "metadata": {},
   "source": [
    "Partimos de una lista de números cíclicos"
   ]
  },
  {
   "cell_type": "code",
   "execution_count": 159,
   "metadata": {},
   "outputs": [
    {
     "name": "stdout",
     "output_type": "stream",
     "text": [
      "El resultado es:3529411764705882,5294117647058823\n"
     ]
    }
   ],
   "source": [
    "num_ciclicos=[2, 5, 7, 17, 19, 29, 31, 43, 53, 79, 89, 101, 113, 127, 137, 139, 149, 163, 173, 197, 199, 211, 223, 233, 257, 269, 281, 283, 293, 317, 331, 353, 379, 389, 401, 449, 461, 463, 487, 509, 521, 557, 569, 571, 593, 607, 617, 631, 641, 653, 677, 691, 701, 739, 751, 773, 797, 809, 811, 821, 823, 857, 859, 881, 907, 929, 941, 953, 977]\n",
    "resultado=False\n",
    "for i in num_ciclicos:\n",
    "    if(resultado==False):\n",
    "           for d in range(1,i):\n",
    "            num_decimal = str(1/i*d).split(\".\")[1]\n",
    "            if(int(num_decimal[:1])==3) :\n",
    "                valor=int(num_decimal)*3/2\n",
    "                if(str(int(valor)).endswith(\"3\")):\n",
    "                    print(f'El resultado es:{num_decimal},{str(int(valor))}')\n",
    "                    resultado=True\n",
    "           \n",
    "          \n",
    "                "
   ]
  },
  {
   "cell_type": "markdown",
   "metadata": {},
   "source": []
  },
  {
   "cell_type": "markdown",
   "metadata": {},
   "source": [
    "## 9. Agujas superpuestas\n",
    "\n",
    "<img src=\"Images/reloj-movimiento--478x578.jpg\" style=\"width: 250px;\"/>\n",
    "\n",
    "El horario y el minutero de un reloj se juntan exactamente cada 65 minutos.  \n",
    "Calcular si el reloj se adelanta o se atrasa, y cuánto por hora.  \n",
    "\n",
    "PISTA: Suponer que las agujas del reloj empiezan en las 12 en punto.\n",
    "\n",
    "PISTA: No hace falta resolverlo con Python"
   ]
  },
  {
   "cell_type": "markdown",
   "metadata": {},
   "source": [
    "Las agujas del reloj se van a superoner en 12 horas 11 veces, es decir \n",
    "\n",
    "12/11 x 3600 segundos=3927.2727 = 65 minutos y 27.3 s = 1h 5 min 27.3 sec\n",
    "\n",
    "Se tendría que comprobar el desfase que hay entre as agujas de la hora y el minutero si empezamos desde las 12 h para saber si adelanta o se atrasa el reloj, sabiendo que cada 65 minutos las agujas se superponen. \n",
    "Si empezamos desde las 12:00 las agujas se tendría que superponer a las siguente horas:\n",
    "\n",
    "1:05.27 2:10.55 3:16.22 4:21.49 5:27.17 6:32.44 7:38.11 8:43.38 9:49.06 10:54.33 12:00.00\n",
    "\n",
    "Si comprobando esta horas las horas no se superpone estonces podemos decir que el reloj se adelanta o se atras.\n"
   ]
  },
  {
   "cell_type": "markdown",
   "metadata": {},
   "source": []
  },
  {
   "cell_type": "markdown",
   "metadata": {},
   "source": [
    "## 10. Cuadrados perfectos\n",
    "\n",
    "<img src=\"Images/cuadrados-perfectos.jpg\" style=\"width: 500px;\"/>\n",
    "\n",
    "Averiguar el número entero positivo que, sumado tanto a 100 como a 164, propociona sendos cuadrados perfectos.\n",
    "\n",
    "PISTA: No hace falta resolverlo con Python"
   ]
  },
  {
   "cell_type": "code",
   "execution_count": 190,
   "metadata": {},
   "outputs": [],
   "source": [
    "def parte_decimal(valor):\n",
    "    return abs(valor) - abs(int(valor))\n"
   ]
  },
  {
   "cell_type": "code",
   "execution_count": 191,
   "metadata": {},
   "outputs": [],
   "source": [
    "def es_entero(variable):\n",
    "    if (variable == 0.0):\n",
    "        return True\n",
    "    else:\n",
    "        return False"
   ]
  },
  {
   "cell_type": "code",
   "execution_count": 200,
   "metadata": {},
   "outputs": [
    {
     "name": "stdout",
     "output_type": "stream",
     "text": [
      "El resultado es: 125\n"
     ]
    }
   ],
   "source": [
    "import math\n",
    "for i in range(100000):\n",
    "    x=math.sqrt(i+100)\n",
    "    y=math.sqrt(i+164)\n",
    "    x1=es_entero(parte_decimal(math.sqrt(i+100)))\n",
    "    y1=es_entero(parte_decimal(math.sqrt(i+164)))\n",
    "    \n",
    "    if(x1 and y1):\n",
    "        print(f'El resultado es: {i}')"
   ]
  },
  {
   "cell_type": "markdown",
   "metadata": {},
   "source": []
  },
  {
   "cell_type": "markdown",
   "metadata": {},
   "source": [
    "## 11. Días de vacaciones\n",
    "\n",
    "<img src=\"Images/vacaciones.jpg\" style=\"width: 500px;\"/>\n",
    "\n",
    "Durante mis vacaciones llovió 9 días, y hubo 10 mañanas y 9 tardes soleadas. Cuando llovió por la mañana, la tarde fue soleada.\n",
    "¿Cuántos días duraron mis vacaciones?"
   ]
  },
  {
   "cell_type": "markdown",
   "metadata": {},
   "source": [
    "x--> días que llovió por la mañana\n",
    "y--> dias que llovió por la tarde\n",
    "\n",
    "Planteamos las siguientes ecuaciones:\n",
    "\n",
    "10 + x = 9 + y\n",
    "x + y = 9"
   ]
  },
  {
   "cell_type": "code",
   "execution_count": 8,
   "metadata": {},
   "outputs": [
    {
     "data": {
      "text/plain": [
       "matrix([[4.],\n",
       "        [5.]])"
      ]
     },
     "execution_count": 8,
     "metadata": {},
     "output_type": "execute_result"
    }
   ],
   "source": [
    "import numpy as np\n",
    "A=np.matrix([\n",
    "    [1,-1],\n",
    "    [1,1]\n",
    "   ])\n",
    "B=np.matrix([\n",
    "    [-1],[9]\n",
    "])\n",
    "inv_A=np.linalg.inv(A)\n",
    "inv_A*B"
   ]
  },
  {
   "cell_type": "code",
   "execution_count": 9,
   "metadata": {},
   "outputs": [
    {
     "data": {
      "text/plain": [
       "matrix([[4.],\n",
       "        [5.]])"
      ]
     },
     "execution_count": 9,
     "metadata": {},
     "output_type": "execute_result"
    }
   ],
   "source": [
    "import numpy as np\n",
    "\n",
    "A = np.matrix([\n",
    "    [1,-1],\n",
    "    [1,1]\n",
    "])\n",
    "\n",
    "B = np.matrix([\n",
    "     [-1],[9]\n",
    "])\n",
    "\n",
    "X = np.linalg.solve(A, B)\n",
    "X"
   ]
  },
  {
   "cell_type": "code",
   "execution_count": 10,
   "metadata": {},
   "outputs": [
    {
     "data": {
      "text/plain": [
       "{x: 4, y: 5}"
      ]
     },
     "execution_count": 10,
     "metadata": {},
     "output_type": "execute_result"
    }
   ],
   "source": [
    "from sympy import Matrix, solve_linear_system\n",
    "from sympy.abc import x,y,z \n",
    "\n",
    "A=Matrix([\n",
    "    [1,-1,-1],\n",
    "    [1,1,9]\n",
    "   ])\n",
    "\n",
    "solve_linear_system(A,x,y)"
   ]
  },
  {
   "cell_type": "markdown",
   "metadata": {},
   "source": [
    "POr tanto las vacaciones duraron: 10 días +  días = 14 días"
   ]
  },
  {
   "cell_type": "markdown",
   "metadata": {},
   "source": []
  },
  {
   "cell_type": "markdown",
   "metadata": {},
   "source": []
  }
 ],
 "metadata": {
  "kernelspec": {
   "display_name": "Python 3",
   "language": "python",
   "name": "python3"
  },
  "language_info": {
   "codemirror_mode": {
    "name": "ipython",
    "version": 3
   },
   "file_extension": ".py",
   "mimetype": "text/x-python",
   "name": "python",
   "nbconvert_exporter": "python",
   "pygments_lexer": "ipython3",
   "version": "3.7.4"
  }
 },
 "nbformat": 4,
 "nbformat_minor": 2
}
